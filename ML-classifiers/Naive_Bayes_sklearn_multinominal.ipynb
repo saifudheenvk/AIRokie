{
 "cells": [
  {
   "cell_type": "markdown",
   "metadata": {
    "colab_type": "text",
    "id": "gNm_Vp93mWFR"
   },
   "source": [
    "**Reference** -https://jakevdp.github.io/PythonDataScienceHandbook/05.05-naive-bayes.html\n"
   ]
  },
  {
   "cell_type": "code",
   "execution_count": 1,
   "metadata": {
    "colab": {
     "base_uri": "https://localhost:8080/",
     "height": 55
    },
    "colab_type": "code",
    "id": "EI2TE7gahQZr",
    "outputId": "7dd3aadb-3300-4bbf-b2df-85bb7d541df4"
   },
   "outputs": [
    {
     "name": "stderr",
     "output_type": "stream",
     "text": [
      "/usr/local/lib/python3.6/dist-packages/statsmodels/tools/_testing.py:19: FutureWarning: pandas.util.testing is deprecated. Use the functions in the public API at pandas.testing instead.\n",
      "  import pandas.util.testing as tm\n"
     ]
    }
   ],
   "source": [
    "#Author: Mohamed Rashiq PP\n",
    "\n",
    "import numpy as np\n",
    "import matplotlib.pyplot as plt\n",
    "import seaborn as sns; sns.set()"
   ]
  },
  {
   "cell_type": "code",
   "execution_count": 2,
   "metadata": {
    "colab": {
     "base_uri": "https://localhost:8080/",
     "height": 435
    },
    "colab_type": "code",
    "id": "O5uK4mHth2RJ",
    "outputId": "7e2c86d3-9550-4091-ef5f-30866d35330e"
   },
   "outputs": [
    {
     "name": "stderr",
     "output_type": "stream",
     "text": [
      "Downloading 20news dataset. This may take a few minutes.\n",
      "Downloading dataset from https://ndownloader.figshare.com/files/5975967 (14 MB)\n"
     ]
    },
    {
     "data": {
      "text/plain": [
       "['alt.atheism',\n",
       " 'comp.graphics',\n",
       " 'comp.os.ms-windows.misc',\n",
       " 'comp.sys.ibm.pc.hardware',\n",
       " 'comp.sys.mac.hardware',\n",
       " 'comp.windows.x',\n",
       " 'misc.forsale',\n",
       " 'rec.autos',\n",
       " 'rec.motorcycles',\n",
       " 'rec.sport.baseball',\n",
       " 'rec.sport.hockey',\n",
       " 'sci.crypt',\n",
       " 'sci.electronics',\n",
       " 'sci.med',\n",
       " 'sci.space',\n",
       " 'soc.religion.christian',\n",
       " 'talk.politics.guns',\n",
       " 'talk.politics.mideast',\n",
       " 'talk.politics.misc',\n",
       " 'talk.religion.misc']"
      ]
     },
     "execution_count": 2,
     "metadata": {
      "tags": []
     },
     "output_type": "execute_result"
    }
   ],
   "source": [
    "# dataset\n",
    "from sklearn.datasets import fetch_20newsgroups\n",
    "data = fetch_20newsgroups()\n",
    "data.target_names"
   ]
  },
  {
   "cell_type": "code",
   "execution_count": 3,
   "metadata": {
    "colab": {},
    "colab_type": "code",
    "id": "8kwm9nGgh87j"
   },
   "outputs": [],
   "source": [
    "# selecting some of the categories\n",
    "categories = ['rec.sport.baseball', 'sci.crypt',\n",
    "              'sci.space', 'comp.graphics']\n",
    "train = fetch_20newsgroups(subset='train', categories=categories)\n",
    "test = fetch_20newsgroups(subset='test', categories=categories)"
   ]
  },
  {
   "cell_type": "code",
   "execution_count": null,
   "metadata": {
    "colab": {
     "base_uri": "https://localhost:8080/",
     "height": 720
    },
    "colab_type": "code",
    "id": "bhS2ZgDJivVX",
    "outputId": "af2f0ad1-7f0d-49b0-b0f4-bee473b67c48"
   },
   "outputs": [
    {
     "name": "stdout",
     "output_type": "stream",
     "text": [
      "From: jmcocker@eos.ncsu.edu (Mitch)\n",
      "Subject: Re: Newsgroup Split\n",
      "Originator: jmcocker@c00053-100lez.eos.ncsu.edu\n",
      "Reply-To: jmcocker@eos.ncsu.edu (Mitch)\n",
      "Organization: North Carolina State University, Project Eos\n",
      "Lines: 29\n",
      "\n",
      "\n",
      "In article <FOX.93Apr22002043@graphics.nyu.edu>, fox@graphics.cs.nyu.edu (David Fox) writes:\n",
      "|>\n",
      "|>   Concerning the proposed newsgroup split, I personally am not in favor of\n",
      "|>   doing this.  I learn an awful lot about all aspects of graphics by reading\n",
      "|>   this group, from code to hardware to algorithms.  I just think making 5\n",
      "|>   different groups out of this is a wate, and will only result in a few posts\n",
      "|>   a week per group.  I kind of like the convenience of having one big forum\n",
      "|>   for discussing all aspects of graphics.  Anyone else feel this way?\n",
      "|>   Just curious.\n",
      "|>\n",
      "|>I disagree.  You could learn the same amount by reading all the\n",
      "|>split groups, and it would make things easier for those of us\n",
      "|>who are less omnivorous.  There is no \"waste\" in creating news\n",
      "|>groups -- its just a bit of shuffling about.  I have no problem\n",
      "|>with only a few posts per week per group - I spend too much time\n",
      "|>on this as it is.\n",
      "|>\n",
      "\n",
      "Yes, but... shouldn't size of newsgroup be an issue?  Sorry if this\n",
      "has been covered before, but comp.grahpics.animation get how much \n",
      "traffic per day?  50 articles?  Maybe 70 on an extremely heavy day?\n",
      "I've been following this group for about four months now, and I don't\n",
      "recall ever seeing such a flood of posts that a split would be warranted.\n",
      "\n",
      "Just my 2 cents,\n",
      "\n",
      "Mitch------------------------------------>jmcocker@eos.ncsu.edu\n",
      "\"Who doth render with 386sx-20 knoweth frustration.\"\n",
      "\n"
     ]
    }
   ],
   "source": [
    "print (train.data[5])"
   ]
  },
  {
   "cell_type": "code",
   "execution_count": 4,
   "metadata": {
    "colab": {},
    "colab_type": "code",
    "id": "gm-FpgP8kHXL"
   },
   "outputs": [],
   "source": [
    "# TfidfVectorizer - Convert the collection of raw documents to a matrix of TF-IDF features.\n",
    "from sklearn.feature_extraction.text import TfidfVectorizer\n",
    "from sklearn.naive_bayes import MultinomialNB\n",
    "from sklearn.pipeline import make_pipeline\n",
    "\n",
    "model = make_pipeline(TfidfVectorizer(), MultinomialNB())"
   ]
  },
  {
   "cell_type": "markdown",
   "metadata": {
    "colab_type": "text",
    "id": "mInrg8pNnNs7"
   },
   "source": [
    "**TF-IDF**\n",
    "\n",
    "In information retrieval, tf–idf or TFIDF, short for term frequency–inverse document frequency, is a numerical statistic that is intended to reflect how important a word is to a document in a collection or corpus.[1] It is often used as a weighting factor in searches of information retrieval, text mining, and user modeling. The tf–idf value increases proportionally to the number of times a word appears in the document and is offset by the number of documents in the corpus that contain the word, which helps to adjust for the fact that some words appear more frequently in general."
   ]
  },
  {
   "cell_type": "code",
   "execution_count": 5,
   "metadata": {
    "colab": {
     "base_uri": "https://localhost:8080/",
     "height": 36
    },
    "colab_type": "code",
    "id": "PZS3MhEak5Ci",
    "outputId": "9a82b42d-d493-4015-d995-97a3b76db768"
   },
   "outputs": [
    {
     "data": {
      "text/plain": [
       "array([3, 3, 0, ..., 2, 1, 2])"
      ]
     },
     "execution_count": 5,
     "metadata": {
      "tags": []
     },
     "output_type": "execute_result"
    }
   ],
   "source": [
    "model.fit(train.data, train.target)\n",
    "labels = model.predict(test.data)\n",
    "labels"
   ]
  },
  {
   "cell_type": "code",
   "execution_count": 14,
   "metadata": {
    "colab": {
     "base_uri": "https://localhost:8080/",
     "height": 431
    },
    "colab_type": "code",
    "id": "DKFIZlBElQUA",
    "outputId": "d9d7b44b-d558-4842-cd03-aec4eda67b2b"
   },
   "outputs": [
    {
     "name": "stdout",
     "output_type": "stream",
     "text": [
      "accuracy : 0.9282994923857868\n",
      "precision : 0.9354387149039842\n",
      "recall : 0.9277601186033579\n"
     ]
    },
    {
     "data": {
      "image/png": "[encoded data removed]",
      "text/plain": [
       "<Figure size 432x288 with 1 Axes>"
      ]
     },
     "metadata": {
      "needs_background": "light",
      "tags": []
     },
     "output_type": "display_data"
    }
   ],
   "source": [
    "#metrics\n",
    "\n",
    "from sklearn.metrics import confusion_matrix,precision_score,accuracy_score,recall_score\n",
    "# from sklearn.metrics import accuracy_score\n",
    "# from sklearn.metrics import precision_score\n",
    "accuracy=accuracy_score(test.target,labels)\n",
    "precision=precision_score(test.target,labels, average=\"macro\")\n",
    "recall=recall_score(test.target,labels, average=\"macro\")\n",
    "print(\"accuracy :\",accuracy)\n",
    "print(\"precision :\",precision)\n",
    "print(\"recall :\",recall)\n",
    "\n",
    "mat = confusion_matrix(test.target, labels)\n",
    "sns.heatmap(mat.T, square=True, annot=True, fmt='d', cbar=False,\n",
    "            xticklabels=train.target_names, yticklabels=train.target_names)\n",
    "plt.xlabel('true label')\n",
    "plt.ylabel('predicted label');"
   ]
  },
  {
   "cell_type": "code",
   "execution_count": null,
   "metadata": {
    "colab": {},
    "colab_type": "code",
    "id": "IltX__1bldyo"
   },
   "outputs": [],
   "source": [
    "def predict_category(s, train=train, model=model):\n",
    "    pred = model.predict([s])\n",
    "    return train.target_names[pred[0]]"
   ]
  },
  {
   "cell_type": "code",
   "execution_count": null,
   "metadata": {
    "colab": {
     "base_uri": "https://localhost:8080/",
     "height": 36
    },
    "colab_type": "code",
    "id": "VLIjMuDIllom",
    "outputId": "81f0db28-2467-4225-df98-eeea87af287a"
   },
   "outputs": [
    {
     "data": {
      "text/plain": [
       "'sci.space'"
      ]
     },
     "execution_count": 14,
     "metadata": {
      "tags": []
     },
     "output_type": "execute_result"
    }
   ],
   "source": [
    "predict_category('sending a payload to the ISS')"
   ]
  },
  {
   "cell_type": "code",
   "execution_count": null,
   "metadata": {
    "colab": {
     "base_uri": "https://localhost:8080/",
     "height": 36
    },
    "colab_type": "code",
    "id": "N5ebjxG4lyxk",
    "outputId": "d24a5407-3268-4777-a39f-9b236cba4fbb"
   },
   "outputs": [
    {
     "data": {
      "text/plain": [
       "'rec.sport.baseball'"
      ]
     },
     "execution_count": 20,
     "metadata": {
      "tags": []
     },
     "output_type": "execute_result"
    }
   ],
   "source": [
    "predict_category('He fell down while playing')"
   ]
  }
 ],
 "metadata": {
  "colab": {
   "collapsed_sections": [],
   "name": "Naive_Bayes-sklearn-multinominal.ipynb",
   "provenance": []
  },
  "kernelspec": {
   "display_name": "Python 3",
   "language": "python",
   "name": "python3"
  },
  "language_info": {
   "codemirror_mode": {
    "name": "ipython",
    "version": 3
   },
   "file_extension": ".py",
   "mimetype": "text/x-python",
   "name": "python",
   "nbconvert_exporter": "python",
   "pygments_lexer": "ipython3",
   "version": "3.6.9"
  }
 },
 "nbformat": 4,
 "nbformat_minor": 1
}
